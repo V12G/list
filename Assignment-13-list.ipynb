{
 "cells": [
  {
   "cell_type": "code",
   "execution_count": 1,
   "id": "7a1b2041",
   "metadata": {},
   "outputs": [
    {
     "name": "stdout",
     "output_type": "stream",
     "text": [
      "['Java', 'Python', 'SQL', 'C']\n"
     ]
    }
   ],
   "source": [
    "'''Write a python script to store multiple items in a single variable ( Items are “Java”\n",
    ",“Python”, “SQL”, “C” ) using list.'''\n",
    "a=[\"Java\",\"Python\",\"SQL\",\"C\"]\n",
    "print(a)"
   ]
  },
  {
   "cell_type": "code",
   "execution_count": 2,
   "id": "d749f982",
   "metadata": {},
   "outputs": [
    {
     "name": "stdout",
     "output_type": "stream",
     "text": [
      "<class 'list'>\n"
     ]
    }
   ],
   "source": [
    "# Write a python script to get the data type of a list.\n",
    "print(type(a))"
   ]
  },
  {
   "cell_type": "code",
   "execution_count": 3,
   "id": "71b3afc6",
   "metadata": {},
   "outputs": [
    {
     "name": "stdout",
     "output_type": "stream",
     "text": [
      "Python\n"
     ]
    }
   ],
   "source": [
    "# Write a python script to get the last item of the list ( mylist = [\"Java\", \"C\", \"Python\"])\n",
    "mylist = [\"Java\", \"C\", \"Python\"]\n",
    "print(mylist[2])"
   ]
  },
  {
   "cell_type": "code",
   "execution_count": 14,
   "id": "f7d7fc6f",
   "metadata": {},
   "outputs": [
    {
     "name": "stdout",
     "output_type": "stream",
     "text": [
      "['Java', 'NoSQl', 'Flutter', 'Reactnative', 'Javascript', 'Python']\n"
     ]
    }
   ],
   "source": [
    "'''Write a python script to Change the values \"SQL\" and \"Reactnative\" with the values\n",
    "\"NoSQL\" and \"Flutter\" (List is thislist = [\"Java\", \"SQL\", \"C\", \"Reactnative\",\"Javascript\", \"Python\"].'''\n",
    "l1 = [\"Java\", \"SQL\", \"C\", \"Reactnative\",\"Javascript\", \"Python\"]\n",
    "l1[1]=\"NoSQl\"\n",
    "l1[2]=\"Flutter\"\n",
    "print(l1)"
   ]
  },
  {
   "cell_type": "code",
   "execution_count": 17,
   "id": "740b13f3",
   "metadata": {},
   "outputs": [
    {
     "name": "stdout",
     "output_type": "stream",
     "text": [
      "['Java', 'SQL', 'C', 'Reactnative', 'Python']\n"
     ]
    }
   ],
   "source": [
    "'''Write a python script to add an item to the end of the list (item “Python”. (mylist =\n",
    "[\"Java\", \"SQL\", \"C\", \"Reactnative\"]'''\n",
    "l1=[\"Java\", \"SQL\", \"C\", \"Reactnative\"]\n",
    "l1.append(\"Python\")\n",
    "print(l1)"
   ]
  },
  {
   "cell_type": "code",
   "execution_count": 18,
   "id": "86490a18",
   "metadata": {},
   "outputs": [
    {
     "name": "stdout",
     "output_type": "stream",
     "text": [
      "['C', 'Cpp', 'NoSQL', 'C']\n"
     ]
    }
   ],
   "source": [
    "'''Write a python program to append elements from another list to the current list.(\n",
    "firstlist = [\"Java\", \"Python\", \"SQL\"]\n",
    "secondlist = [\"C\", \"Cpp\", \"NoSQL\"] )'''\n",
    "firstlist = [\"Java\", \"Python\", \"SQL\"]\n",
    "secondlist = [\"C\", \"Cpp\", \"NoSQL\"]\n",
    "secondlist.append(\"C\")\n",
    "print(secondlist)"
   ]
  },
  {
   "cell_type": "code",
   "execution_count": 31,
   "id": "afe63051",
   "metadata": {},
   "outputs": [
    {
     "name": "stdout",
     "output_type": "stream",
     "text": [
      "Java index is= 0\n",
      "SQL index is= 1\n",
      "C index is= 2\n",
      "Reactnative index is= 3\n",
      "Javascript index is= 4\n",
      "Python index is= 5\n"
     ]
    }
   ],
   "source": [
    "'''Write a python program to Print all items by referring to their index number (thislist =\n",
    "[\"Java\", \"SQL\", \"C\", \"Reactnative\", \"Javascript\", \"Python\"]'''\n",
    "l1=[\"Java\", \"SQL\", \"C\", \"Reactnative\", \"Javascript\", \"Python\"]\n",
    "print(\"Java index is=\",l1.index(\"Java\"))\n",
    "print(\"SQL index is=\",l1.index(\"SQL\"))\n",
    "print(\"C index is=\",l1.index(\"C\"))\n",
    "print(\"Reactnative index is=\",l1.index(\"Reactnative\"))\n",
    "print(\"Javascript index is=\",l1.index(\"Javascript\"))\n",
    "print(\"Python index is=\",l1.index(\"Python\"))"
   ]
  },
  {
   "cell_type": "code",
   "execution_count": 33,
   "id": "1f979f9f",
   "metadata": {},
   "outputs": [
    {
     "data": {
      "text/plain": [
       "['C', 'Java', 'Javascript', 'Python', 'Reactjs', 'SQL']"
      ]
     },
     "execution_count": 33,
     "metadata": {},
     "output_type": "execute_result"
    }
   ],
   "source": [
    "'''Write a python program to sort the list alphanumerically – thislist = [\"Java\", \"SQL\",\n",
    "\"C\", \"Reactjs\", \"Javascript\", \"Python\"]'''\n",
    "l1=[\"Java\", \"SQL\",\"C\", \"Reactjs\", \"Javascript\", \"Python\"]\n",
    "sorted(l1)"
   ]
  },
  {
   "cell_type": "code",
   "execution_count": 42,
   "id": "7fc192a7",
   "metadata": {},
   "outputs": [
    {
     "name": "stdout",
     "output_type": "stream",
     "text": [
      "How many city name you want:\n",
      "3\n",
      "Enter 3 City name\n",
      "Basti\n"
     ]
    },
    {
     "ename": "NameError",
     "evalue": "name 'Basti' is not defined",
     "output_type": "error",
     "traceback": [
      "\u001b[1;31m---------------------------------------------------------------------------\u001b[0m",
      "\u001b[1;31mNameError\u001b[0m                                 Traceback (most recent call last)",
      "\u001b[1;32m~\\AppData\\Local\\Temp/ipykernel_19748/711092464.py\u001b[0m in \u001b[0;36m<module>\u001b[1;34m\u001b[0m\n\u001b[0;32m      5\u001b[0m \u001b[0mb\u001b[0m\u001b[1;33m=\u001b[0m\u001b[1;33m[\u001b[0m\u001b[1;33m]\u001b[0m\u001b[1;33m\u001b[0m\u001b[1;33m\u001b[0m\u001b[0m\n\u001b[0;32m      6\u001b[0m \u001b[1;32mfor\u001b[0m \u001b[0me\u001b[0m \u001b[1;32min\u001b[0m \u001b[0mrange\u001b[0m\u001b[1;33m(\u001b[0m\u001b[0ma\u001b[0m\u001b[1;33m)\u001b[0m\u001b[1;33m:\u001b[0m\u001b[1;33m\u001b[0m\u001b[1;33m\u001b[0m\u001b[0m\n\u001b[1;32m----> 7\u001b[1;33m     \u001b[0mb\u001b[0m\u001b[1;33m.\u001b[0m\u001b[0mappend\u001b[0m\u001b[1;33m(\u001b[0m\u001b[0meval\u001b[0m\u001b[1;33m(\u001b[0m\u001b[0minput\u001b[0m\u001b[1;33m(\u001b[0m\u001b[1;33m)\u001b[0m\u001b[1;33m)\u001b[0m\u001b[1;33m)\u001b[0m\u001b[1;33m\u001b[0m\u001b[1;33m\u001b[0m\u001b[0m\n\u001b[0m\u001b[0;32m      8\u001b[0m \u001b[1;33m\u001b[0m\u001b[0m\n\u001b[0;32m      9\u001b[0m \u001b[0mprint\u001b[0m\u001b[1;33m(\u001b[0m\u001b[1;34m\"List:\"\u001b[0m\u001b[1;33m)\u001b[0m\u001b[1;33m\u001b[0m\u001b[1;33m\u001b[0m\u001b[0m\n",
      "\u001b[1;32m<string>\u001b[0m in \u001b[0;36m<module>\u001b[1;34m\u001b[0m\n",
      "\u001b[1;31mNameError\u001b[0m: name 'Basti' is not defined"
     ]
    }
   ],
   "source": [
    "# Write a Python script to create a list of city names taken from the user.\n",
    "print(\"How many city name you want:\")\n",
    "a=eval(input())\n",
    "print(\"Enter\",a,\"City name\")\n",
    "b=[]\n",
    "for e in range(a):\n",
    "    b.append(eval(input()))\n",
    "\n",
    "print(b)"
   ]
  },
  {
   "cell_type": "code",
   "execution_count": 43,
   "id": "b075b452",
   "metadata": {},
   "outputs": [
    {
     "name": "stdout",
     "output_type": "stream",
     "text": [
      "How many number you to print:\n",
      "4\n",
      "Enter 4 number\n",
      "12\n",
      "13\n",
      "14\n",
      "15\n",
      "[12, 13, 14, 15]\n"
     ]
    }
   ],
   "source": [
    "'''Write a Python script to create a list, where each element of the list is a digit of a\n",
    "given number.'''\n",
    "print(\"How many number you to print:\")\n",
    "n=int(input())\n",
    "print(\"Enter\",n,\"number\")\n",
    "a=[]\n",
    "for e in  range(n):\n",
    "    a.append(int(input()))\n",
    "print(a)"
   ]
  },
  {
   "cell_type": "code",
   "execution_count": null,
   "id": "54f9737b",
   "metadata": {},
   "outputs": [],
   "source": []
  }
 ],
 "metadata": {
  "kernelspec": {
   "display_name": "Python 3 (ipykernel)",
   "language": "python",
   "name": "python3"
  },
  "language_info": {
   "codemirror_mode": {
    "name": "ipython",
    "version": 3
   },
   "file_extension": ".py",
   "mimetype": "text/x-python",
   "name": "python",
   "nbconvert_exporter": "python",
   "pygments_lexer": "ipython3",
   "version": "3.9.7"
  }
 },
 "nbformat": 4,
 "nbformat_minor": 5
}
